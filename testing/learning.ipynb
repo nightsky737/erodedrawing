{
 "cells": [
  {
   "cell_type": "code",
   "execution_count": 1,
   "id": "d8ad2ad3",
   "metadata": {},
   "outputs": [],
   "source": [
    "from landlab import RasterModelGrid\n",
    "from landlab.io import esri_ascii\n",
    "from landlab.utils.add_halo import add_halo\n",
    "import numpy as np\n",
    "import rasterio\n",
    "import rasterio.features\n",
    "import rasterio.warp"
   ]
  },
  {
   "cell_type": "code",
   "execution_count": 3,
   "id": "e2fe017f",
   "metadata": {},
   "outputs": [],
   "source": [
    "dataset = rasterio.open('output_be.tif')\n"
   ]
  },
  {
   "cell_type": "code",
   "execution_count": 4,
   "id": "b5ae3c58",
   "metadata": {},
   "outputs": [
    {
     "name": "stdout",
     "output_type": "stream",
     "text": [
      "<open DatasetReader name='output_be.tif' mode='r'>\n"
     ]
    }
   ],
   "source": [
    "print(dataset)"
   ]
  },
  {
   "cell_type": "code",
   "execution_count": null,
   "id": "cdc9cb94",
   "metadata": {},
   "outputs": [
    {
     "data": {
      "text/plain": [
       "1929"
      ]
     },
     "execution_count": 8,
     "metadata": {},
     "output_type": "execute_result"
    }
   ],
   "source": [
    "#Dataset band is array representing part of a variable's distribution.\n",
    "dataset.width\n",
    "dataset.height"
   ]
  },
  {
   "cell_type": "code",
   "execution_count": null,
   "id": "c639eba0",
   "metadata": {},
   "outputs": [
    {
     "data": {
      "text/plain": [
       "Affine(1.0, 0.0, 278056.0,\n",
       "       0.0, -1.0, 4173332.0)"
      ]
     },
     "execution_count": 10,
     "metadata": {},
     "output_type": "execute_result"
    }
   ],
   "source": [
    "dataset.bounds #wow this is where the dataset is located irl\n",
    "dataset.transform #this is how the pixel locations in (col, row) were mapped to (x, y)\n",
    "#The product of this matrix and (0, 0), the upper loeft (col, row) is the IRL location of the upper left corner\n",
    "#OH WAIT HOLY COW THIS IS JUST ROTATION MATRIX + OFFSET\n",
    "#These coordinates are from \n",
    "dataset.crs #shows how far things are from the mapping thing\n"
   ]
  },
  {
   "cell_type": "code",
   "execution_count": null,
   "id": "0db4a30a",
   "metadata": {},
   "outputs": [],
   "source": [
    "with rasterio.open('output_be.tif') as src:\n",
    "    array = dataset.read(1)\n",
    "    transforms = dataset.transform"
   ]
  },
  {
   "cell_type": "code",
   "execution_count": null,
   "id": "20c7c3a9",
   "metadata": {},
   "outputs": [],
   "source": [
    "from matplotlib import pyplot\n",
    "pyplot.imshow(array, cmap='pink')\n",
    "<matplotlib.image.AxesImage object at 0x...>\n",
    "pyplot.show()"
   ]
  },
  {
   "cell_type": "code",
   "execution_count": 12,
   "id": "d0386d94",
   "metadata": {},
   "outputs": [],
   "source": [
    "#can also get spacial coords of the r,c dataset by index(x, y)"
   ]
  },
  {
   "cell_type": "code",
   "execution_count": 21,
   "id": "f6a2a73b",
   "metadata": {},
   "outputs": [
    {
     "name": "stdout",
     "output_type": "stream",
     "text": [
      "(1311, 1929)\n"
     ]
    }
   ],
   "source": [
    "print(band1.shape)"
   ]
  },
  {
   "cell_type": "code",
   "execution_count": null,
   "id": "f2e9263e",
   "metadata": {},
   "outputs": [
    {
     "ename": "UnicodeDecodeError",
     "evalue": "'charmap' codec can't decode byte 0x81 in position 398: character maps to <undefined>",
     "output_type": "error",
     "traceback": [
      "\u001b[31m---------------------------------------------------------------------------\u001b[39m",
      "\u001b[31mUnicodeDecodeError\u001b[39m                        Traceback (most recent call last)",
      "\u001b[36mCell\u001b[39m\u001b[36m \u001b[39m\u001b[32mIn[20]\u001b[39m\u001b[32m, line 3\u001b[39m\n\u001b[32m      1\u001b[39m \u001b[38;5;28;01mfrom\u001b[39;00m \u001b[34;01mlandlab\u001b[39;00m\u001b[34;01m.\u001b[39;00m\u001b[34;01mgrid\u001b[39;00m\u001b[34;01m.\u001b[39;00m\u001b[34;01mcreate\u001b[39;00m \u001b[38;5;28;01mimport\u001b[39;00m grids_from_file\n\u001b[32m----> \u001b[39m\u001b[32m3\u001b[39m idk = \u001b[43mgrids_from_file\u001b[49m\u001b[43m(\u001b[49m\u001b[38;5;28;43mopen\u001b[39;49m\u001b[43m(\u001b[49m\u001b[33;43m'\u001b[39;49m\u001b[33;43moutput_be.tif\u001b[39;49m\u001b[33;43m'\u001b[39;49m\u001b[43m)\u001b[49m\u001b[43m)\u001b[49m\n",
      "\u001b[36mFile \u001b[39m\u001b[32mc:\\Users\\jseto\\AppData\\Local\\Programs\\Python\\Python311\\Lib\\site-packages\\landlab\\grid\\create.py:63\u001b[39m, in \u001b[36mgrids_from_file\u001b[39m\u001b[34m(file_like, section)\u001b[39m\n\u001b[32m     61\u001b[39m \u001b[38;5;28;01mdef\u001b[39;00m \u001b[34mgrids_from_file\u001b[39m(file_like, section=\u001b[38;5;28;01mNone\u001b[39;00m):\n\u001b[32m     62\u001b[39m \u001b[38;5;250m    \u001b[39m\u001b[33;03m\"\"\"Create grids from a file.\"\"\"\u001b[39;00m\n\u001b[32m---> \u001b[39m\u001b[32m63\u001b[39m     params = \u001b[43mload_params\u001b[49m\u001b[43m(\u001b[49m\u001b[43mfile_like\u001b[49m\u001b[43m)\u001b[49m\n\u001b[32m     65\u001b[39m     \u001b[38;5;28;01mif\u001b[39;00m section:\n\u001b[32m     66\u001b[39m         \u001b[38;5;28;01mtry\u001b[39;00m:\n",
      "\u001b[36mFile \u001b[39m\u001b[32mc:\\Users\\jseto\\AppData\\Local\\Programs\\Python\\Python311\\Lib\\site-packages\\landlab\\core\\model_parameter_loader.py:77\u001b[39m, in \u001b[36mload_params\u001b[39m\u001b[34m(file_like)\u001b[39m\n\u001b[32m     49\u001b[39m \u001b[38;5;28;01mdef\u001b[39;00m \u001b[34mload_params\u001b[39m(file_like):\n\u001b[32m     50\u001b[39m \u001b[38;5;250m    \u001b[39m\u001b[33;03m\"\"\"Load parameters from a YAML style file.\u001b[39;00m\n\u001b[32m     51\u001b[39m \n\u001b[32m     52\u001b[39m \u001b[33;03m    Parameters\u001b[39;00m\n\u001b[32m   (...)\u001b[39m\u001b[32m     75\u001b[39m \u001b[33;03m    (0.0, 10.0, 2.0)\u001b[39;00m\n\u001b[32m     76\u001b[39m \u001b[33;03m    \"\"\"\u001b[39;00m\n\u001b[32m---> \u001b[39m\u001b[32m77\u001b[39m     contents = \u001b[43mload_file_contents\u001b[49m\u001b[43m(\u001b[49m\u001b[43mfile_like\u001b[49m\u001b[43m)\u001b[49m\n\u001b[32m     79\u001b[39m     params = yaml.load(contents, Loader=_loader)\n\u001b[32m     81\u001b[39m     \u001b[38;5;28;01mif\u001b[39;00m \u001b[38;5;129;01mnot\u001b[39;00m \u001b[38;5;28misinstance\u001b[39m(params, \u001b[38;5;28mdict\u001b[39m):\n",
      "\u001b[36mFile \u001b[39m\u001b[32mc:\\Users\\jseto\\AppData\\Local\\Programs\\Python\\Python311\\Lib\\site-packages\\landlab\\core\\model_parameter_loader.py:38\u001b[39m, in \u001b[36mload_file_contents\u001b[39m\u001b[34m(file_like)\u001b[39m\n\u001b[32m     24\u001b[39m \u001b[38;5;250m\u001b[39m\u001b[33;03m\"\"\"Load the contents of a file or file-like object.\u001b[39;00m\n\u001b[32m     25\u001b[39m \n\u001b[32m     26\u001b[39m \u001b[33;03mParameters\u001b[39;00m\n\u001b[32m   (...)\u001b[39m\u001b[32m     35\u001b[39m \u001b[33;03m    The contents of the file.\u001b[39;00m\n\u001b[32m     36\u001b[39m \u001b[33;03m\"\"\"\u001b[39;00m\n\u001b[32m     37\u001b[39m \u001b[38;5;28;01mtry\u001b[39;00m:\n\u001b[32m---> \u001b[39m\u001b[32m38\u001b[39m     contents = \u001b[43mfile_like\u001b[49m\u001b[43m.\u001b[49m\u001b[43mread\u001b[49m\u001b[43m(\u001b[49m\u001b[43m)\u001b[49m\n\u001b[32m     39\u001b[39m \u001b[38;5;28;01mexcept\u001b[39;00m \u001b[38;5;167;01mAttributeError\u001b[39;00m:  \u001b[38;5;66;03m# was a str\u001b[39;00m\n\u001b[32m     40\u001b[39m     \u001b[38;5;28;01mif\u001b[39;00m os.path.isfile(file_like):\n",
      "\u001b[36mFile \u001b[39m\u001b[32mc:\\Users\\jseto\\AppData\\Local\\Programs\\Python\\Python311\\Lib\\encodings\\cp1252.py:23\u001b[39m, in \u001b[36mIncrementalDecoder.decode\u001b[39m\u001b[34m(self, input, final)\u001b[39m\n\u001b[32m     22\u001b[39m \u001b[38;5;28;01mdef\u001b[39;00m \u001b[34mdecode\u001b[39m(\u001b[38;5;28mself\u001b[39m, \u001b[38;5;28minput\u001b[39m, final=\u001b[38;5;28;01mFalse\u001b[39;00m):\n\u001b[32m---> \u001b[39m\u001b[32m23\u001b[39m     \u001b[38;5;28;01mreturn\u001b[39;00m codecs.charmap_decode(\u001b[38;5;28minput\u001b[39m,\u001b[38;5;28mself\u001b[39m.errors,decoding_table)[\u001b[32m0\u001b[39m]\n",
      "\u001b[31mUnicodeDecodeError\u001b[39m: 'charmap' codec can't decode byte 0x81 in position 398: character maps to <undefined>"
     ]
    }
   ],
   "source": [
    "from landlab import RasterModelGrid\n",
    "\n",
    "\n"
   ]
  },
  {
   "cell_type": "code",
   "execution_count": null,
   "id": "e8a5d92f",
   "metadata": {},
   "outputs": [],
   "source": []
  }
 ],
 "metadata": {
  "kernelspec": {
   "display_name": "Python 3",
   "language": "python",
   "name": "python3"
  },
  "language_info": {
   "codemirror_mode": {
    "name": "ipython",
    "version": 3
   },
   "file_extension": ".py",
   "mimetype": "text/x-python",
   "name": "python",
   "nbconvert_exporter": "python",
   "pygments_lexer": "ipython3",
   "version": "3.11.9"
  }
 },
 "nbformat": 4,
 "nbformat_minor": 5
}
